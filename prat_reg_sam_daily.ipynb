{
 "cells": [
  {
   "cell_type": "code",
   "execution_count": 34,
   "metadata": {},
   "outputs": [],
   "source": [
    "import pandas as pd\n",
    "import numpy as np\n",
    "import matplotlib.pyplot as plt\n",
    "%matplotlib inline\n",
    "import datetime as dt\n"
   ]
  },
  {
   "cell_type": "code",
   "execution_count": 35,
   "metadata": {},
   "outputs": [
    {
     "data": {
      "text/html": [
       "<div>\n",
       "<style scoped>\n",
       "    .dataframe tbody tr th:only-of-type {\n",
       "        vertical-align: middle;\n",
       "    }\n",
       "\n",
       "    .dataframe tbody tr th {\n",
       "        vertical-align: top;\n",
       "    }\n",
       "\n",
       "    .dataframe thead th {\n",
       "        text-align: right;\n",
       "    }\n",
       "</style>\n",
       "<table border=\"1\" class=\"dataframe\">\n",
       "  <thead>\n",
       "    <tr style=\"text-align: right;\">\n",
       "      <th></th>\n",
       "      <th>latitude</th>\n",
       "      <th>longitude</th>\n",
       "      <th>air_temperature (degC)</th>\n",
       "      <th>dew_point_temperature (degC)</th>\n",
       "      <th>wind_direction (deg)</th>\n",
       "      <th>wind_speed (m/s)</th>\n",
       "      <th>sea_level_pressure (hPa)</th>\n",
       "      <th>station_pressure (hPa)</th>\n",
       "      <th>relative_humidity (%)</th>\n",
       "      <th>low_cloud_area_fraction (code)</th>\n",
       "      <th>low_cloud_type (code)</th>\n",
       "      <th>middle_cloud_type (code)</th>\n",
       "      <th>high_cloud_type (code)</th>\n",
       "      <th>visibility (code)</th>\n",
       "    </tr>\n",
       "    <tr>\n",
       "      <th># observation_time</th>\n",
       "      <th></th>\n",
       "      <th></th>\n",
       "      <th></th>\n",
       "      <th></th>\n",
       "      <th></th>\n",
       "      <th></th>\n",
       "      <th></th>\n",
       "      <th></th>\n",
       "      <th></th>\n",
       "      <th></th>\n",
       "      <th></th>\n",
       "      <th></th>\n",
       "      <th></th>\n",
       "      <th></th>\n",
       "    </tr>\n",
       "  </thead>\n",
       "  <tbody>\n",
       "    <tr>\n",
       "      <th>1983-01-01 00:00:00</th>\n",
       "      <td>-62.5</td>\n",
       "      <td>-59.7</td>\n",
       "      <td>NaN</td>\n",
       "      <td>NaN</td>\n",
       "      <td>NaN</td>\n",
       "      <td>NaN</td>\n",
       "      <td>NaN</td>\n",
       "      <td>NaN</td>\n",
       "      <td>NaN</td>\n",
       "      <td>NaN</td>\n",
       "      <td>NaN</td>\n",
       "      <td>NaN</td>\n",
       "      <td>NaN</td>\n",
       "      <td>NaN</td>\n",
       "    </tr>\n",
       "    <tr>\n",
       "      <th>1983-01-01 03:00:00</th>\n",
       "      <td>-62.5</td>\n",
       "      <td>-59.7</td>\n",
       "      <td>1.0</td>\n",
       "      <td>NaN</td>\n",
       "      <td>0.0</td>\n",
       "      <td>0.0</td>\n",
       "      <td>NaN</td>\n",
       "      <td>NaN</td>\n",
       "      <td>NaN</td>\n",
       "      <td>NaN</td>\n",
       "      <td>NaN</td>\n",
       "      <td>NaN</td>\n",
       "      <td>NaN</td>\n",
       "      <td>NaN</td>\n",
       "    </tr>\n",
       "    <tr>\n",
       "      <th>1983-01-01 06:00:00</th>\n",
       "      <td>-62.5</td>\n",
       "      <td>-59.7</td>\n",
       "      <td>0.6</td>\n",
       "      <td>NaN</td>\n",
       "      <td>0.0</td>\n",
       "      <td>0.0</td>\n",
       "      <td>NaN</td>\n",
       "      <td>NaN</td>\n",
       "      <td>NaN</td>\n",
       "      <td>NaN</td>\n",
       "      <td>NaN</td>\n",
       "      <td>NaN</td>\n",
       "      <td>NaN</td>\n",
       "      <td>NaN</td>\n",
       "    </tr>\n",
       "    <tr>\n",
       "      <th>1983-01-01 09:00:00</th>\n",
       "      <td>-62.5</td>\n",
       "      <td>-59.7</td>\n",
       "      <td>0.8</td>\n",
       "      <td>NaN</td>\n",
       "      <td>0.0</td>\n",
       "      <td>0.0</td>\n",
       "      <td>990.7</td>\n",
       "      <td>990.1</td>\n",
       "      <td>NaN</td>\n",
       "      <td>NaN</td>\n",
       "      <td>NaN</td>\n",
       "      <td>NaN</td>\n",
       "      <td>NaN</td>\n",
       "      <td>NaN</td>\n",
       "    </tr>\n",
       "    <tr>\n",
       "      <th>1983-01-01 12:00:00</th>\n",
       "      <td>-62.5</td>\n",
       "      <td>-59.7</td>\n",
       "      <td>1.0</td>\n",
       "      <td>NaN</td>\n",
       "      <td>0.0</td>\n",
       "      <td>0.0</td>\n",
       "      <td>991.6</td>\n",
       "      <td>991.0</td>\n",
       "      <td>NaN</td>\n",
       "      <td>NaN</td>\n",
       "      <td>NaN</td>\n",
       "      <td>NaN</td>\n",
       "      <td>NaN</td>\n",
       "      <td>NaN</td>\n",
       "    </tr>\n",
       "  </tbody>\n",
       "</table>\n",
       "</div>"
      ],
      "text/plain": [
       "                     latitude  longitude  air_temperature (degC)  \\\n",
       "# observation_time                                                 \n",
       "1983-01-01 00:00:00     -62.5      -59.7                     NaN   \n",
       "1983-01-01 03:00:00     -62.5      -59.7                     1.0   \n",
       "1983-01-01 06:00:00     -62.5      -59.7                     0.6   \n",
       "1983-01-01 09:00:00     -62.5      -59.7                     0.8   \n",
       "1983-01-01 12:00:00     -62.5      -59.7                     1.0   \n",
       "\n",
       "                     dew_point_temperature (degC)  wind_direction (deg)  \\\n",
       "# observation_time                                                        \n",
       "1983-01-01 00:00:00                           NaN                   NaN   \n",
       "1983-01-01 03:00:00                           NaN                   0.0   \n",
       "1983-01-01 06:00:00                           NaN                   0.0   \n",
       "1983-01-01 09:00:00                           NaN                   0.0   \n",
       "1983-01-01 12:00:00                           NaN                   0.0   \n",
       "\n",
       "                     wind_speed (m/s)  sea_level_pressure (hPa)  \\\n",
       "# observation_time                                                \n",
       "1983-01-01 00:00:00               NaN                       NaN   \n",
       "1983-01-01 03:00:00               0.0                       NaN   \n",
       "1983-01-01 06:00:00               0.0                       NaN   \n",
       "1983-01-01 09:00:00               0.0                     990.7   \n",
       "1983-01-01 12:00:00               0.0                     991.6   \n",
       "\n",
       "                     station_pressure (hPa)  relative_humidity (%)  \\\n",
       "# observation_time                                                   \n",
       "1983-01-01 00:00:00                     NaN                    NaN   \n",
       "1983-01-01 03:00:00                     NaN                    NaN   \n",
       "1983-01-01 06:00:00                     NaN                    NaN   \n",
       "1983-01-01 09:00:00                   990.1                    NaN   \n",
       "1983-01-01 12:00:00                   991.0                    NaN   \n",
       "\n",
       "                     low_cloud_area_fraction (code)  low_cloud_type (code)  \\\n",
       "# observation_time                                                           \n",
       "1983-01-01 00:00:00                             NaN                    NaN   \n",
       "1983-01-01 03:00:00                             NaN                    NaN   \n",
       "1983-01-01 06:00:00                             NaN                    NaN   \n",
       "1983-01-01 09:00:00                             NaN                    NaN   \n",
       "1983-01-01 12:00:00                             NaN                    NaN   \n",
       "\n",
       "                     middle_cloud_type (code)  high_cloud_type (code)  \\\n",
       "# observation_time                                                      \n",
       "1983-01-01 00:00:00                       NaN                     NaN   \n",
       "1983-01-01 03:00:00                       NaN                     NaN   \n",
       "1983-01-01 06:00:00                       NaN                     NaN   \n",
       "1983-01-01 09:00:00                       NaN                     NaN   \n",
       "1983-01-01 12:00:00                       NaN                     NaN   \n",
       "\n",
       "                     visibility (code)  \n",
       "# observation_time                      \n",
       "1983-01-01 00:00:00                NaN  \n",
       "1983-01-01 03:00:00                NaN  \n",
       "1983-01-01 06:00:00                NaN  \n",
       "1983-01-01 09:00:00                NaN  \n",
       "1983-01-01 12:00:00                NaN  "
      ]
     },
     "execution_count": 35,
     "metadata": {},
     "output_type": "execute_result"
    }
   ],
   "source": [
    "prat_df = pd.read_csv('arturo_prat_qc.csv', parse_dates=[\"# observation_time\"], index_col=\"# observation_time\")\n",
    "prat_df.head()"
   ]
  },
  {
   "cell_type": "code",
   "execution_count": 36,
   "metadata": {},
   "outputs": [],
   "source": [
    "prat_df.dropna(axis=1, how='all', inplace=True)"
   ]
  },
  {
   "cell_type": "code",
   "execution_count": 37,
   "metadata": {},
   "outputs": [],
   "source": [
    "prat_df.drop(columns=['longitude', 'latitude'], inplace=True)"
   ]
  },
  {
   "cell_type": "code",
   "execution_count": 38,
   "metadata": {},
   "outputs": [],
   "source": [
    "prat_df = prat_df.fillna(0)"
   ]
  },
  {
   "cell_type": "code",
   "execution_count": 39,
   "metadata": {},
   "outputs": [],
   "source": [
    "prat_daily = prat_df.resample('D').mean()"
   ]
  },
  {
   "cell_type": "code",
   "execution_count": 40,
   "metadata": {},
   "outputs": [
    {
     "data": {
      "text/plain": [
       "(7670, 5)"
      ]
     },
     "execution_count": 40,
     "metadata": {},
     "output_type": "execute_result"
    }
   ],
   "source": [
    "prat_daily.shape"
   ]
  },
  {
   "cell_type": "code",
   "execution_count": 41,
   "metadata": {},
   "outputs": [
    {
     "data": {
      "image/png": "[encoded data removed]",
      "text/plain": [
       "<matplotlib.figure.Figure at 0x222fba96e10>"
      ]
     },
     "metadata": {},
     "output_type": "display_data"
    }
   ],
   "source": [
    "from matplotlib import pyplot\n",
    "values = prat_df.values\n",
    "# specify columns to plot\n",
    "groups = [0]\n",
    "i = 1\n",
    "# plot each column\n",
    "pyplot.figure()\n",
    "for group in groups:\n",
    "\tpyplot.subplot(len(groups), 1, i)\n",
    "\tpyplot.plot(values[:, group])\n",
    "\tpyplot.title(prat_df.columns[group], y=0.5, loc='right')\n",
    "\ti += 1\n",
    "pyplot.show()"
   ]
  },
  {
   "cell_type": "code",
   "execution_count": 42,
   "metadata": {},
   "outputs": [
    {
     "data": {
      "text/html": [
       "<div>\n",
       "<style scoped>\n",
       "    .dataframe tbody tr th:only-of-type {\n",
       "        vertical-align: middle;\n",
       "    }\n",
       "\n",
       "    .dataframe tbody tr th {\n",
       "        vertical-align: top;\n",
       "    }\n",
       "\n",
       "    .dataframe thead th {\n",
       "        text-align: right;\n",
       "    }\n",
       "</style>\n",
       "<table border=\"1\" class=\"dataframe\">\n",
       "  <thead>\n",
       "    <tr style=\"text-align: right;\">\n",
       "      <th></th>\n",
       "      <th>air_temperature (degC)</th>\n",
       "      <th>wind_direction (deg)</th>\n",
       "      <th>wind_speed (m/s)</th>\n",
       "      <th>sea_level_pressure (hPa)</th>\n",
       "      <th>station_pressure (hPa)</th>\n",
       "    </tr>\n",
       "  </thead>\n",
       "  <tbody>\n",
       "    <tr>\n",
       "      <th>air_temperature (degC)</th>\n",
       "      <td>1.000000</td>\n",
       "      <td>0.269341</td>\n",
       "      <td>-0.289440</td>\n",
       "      <td>-0.038992</td>\n",
       "      <td>-0.051665</td>\n",
       "    </tr>\n",
       "    <tr>\n",
       "      <th>wind_direction (deg)</th>\n",
       "      <td>0.269341</td>\n",
       "      <td>1.000000</td>\n",
       "      <td>0.122739</td>\n",
       "      <td>0.011874</td>\n",
       "      <td>0.096636</td>\n",
       "    </tr>\n",
       "    <tr>\n",
       "      <th>wind_speed (m/s)</th>\n",
       "      <td>-0.289440</td>\n",
       "      <td>0.122739</td>\n",
       "      <td>1.000000</td>\n",
       "      <td>0.002021</td>\n",
       "      <td>0.006538</td>\n",
       "    </tr>\n",
       "    <tr>\n",
       "      <th>sea_level_pressure (hPa)</th>\n",
       "      <td>-0.038992</td>\n",
       "      <td>0.011874</td>\n",
       "      <td>0.002021</td>\n",
       "      <td>1.000000</td>\n",
       "      <td>0.356386</td>\n",
       "    </tr>\n",
       "    <tr>\n",
       "      <th>station_pressure (hPa)</th>\n",
       "      <td>-0.051665</td>\n",
       "      <td>0.096636</td>\n",
       "      <td>0.006538</td>\n",
       "      <td>0.356386</td>\n",
       "      <td>1.000000</td>\n",
       "    </tr>\n",
       "  </tbody>\n",
       "</table>\n",
       "</div>"
      ],
      "text/plain": [
       "                          air_temperature (degC)  wind_direction (deg)  \\\n",
       "air_temperature (degC)                  1.000000              0.269341   \n",
       "wind_direction (deg)                    0.269341              1.000000   \n",
       "wind_speed (m/s)                       -0.289440              0.122739   \n",
       "sea_level_pressure (hPa)               -0.038992              0.011874   \n",
       "station_pressure (hPa)                 -0.051665              0.096636   \n",
       "\n",
       "                          wind_speed (m/s)  sea_level_pressure (hPa)  \\\n",
       "air_temperature (degC)           -0.289440                 -0.038992   \n",
       "wind_direction (deg)              0.122739                  0.011874   \n",
       "wind_speed (m/s)                  1.000000                  0.002021   \n",
       "sea_level_pressure (hPa)          0.002021                  1.000000   \n",
       "station_pressure (hPa)            0.006538                  0.356386   \n",
       "\n",
       "                          station_pressure (hPa)  \n",
       "air_temperature (degC)                 -0.051665  \n",
       "wind_direction (deg)                    0.096636  \n",
       "wind_speed (m/s)                        0.006538  \n",
       "sea_level_pressure (hPa)                0.356386  \n",
       "station_pressure (hPa)                  1.000000  "
      ]
     },
     "execution_count": 42,
     "metadata": {},
     "output_type": "execute_result"
    }
   ],
   "source": [
    "prat_daily.corr()"
   ]
  },
  {
   "cell_type": "code",
   "execution_count": 75,
   "metadata": {},
   "outputs": [],
   "source": [
    "sam = pd.read_excel('sam_sample_month.xlsx', parse_dates=True, index_col='date')"
   ]
  },
  {
   "cell_type": "code",
   "execution_count": 76,
   "metadata": {},
   "outputs": [
    {
     "data": {
      "text/html": [
       "<div>\n",
       "<style scoped>\n",
       "    .dataframe tbody tr th:only-of-type {\n",
       "        vertical-align: middle;\n",
       "    }\n",
       "\n",
       "    .dataframe tbody tr th {\n",
       "        vertical-align: top;\n",
       "    }\n",
       "\n",
       "    .dataframe thead th {\n",
       "        text-align: right;\n",
       "    }\n",
       "</style>\n",
       "<table border=\"1\" class=\"dataframe\">\n",
       "  <thead>\n",
       "    <tr style=\"text-align: right;\">\n",
       "      <th></th>\n",
       "      <th>temp</th>\n",
       "    </tr>\n",
       "    <tr>\n",
       "      <th>date</th>\n",
       "      <th></th>\n",
       "    </tr>\n",
       "  </thead>\n",
       "  <tbody>\n",
       "    <tr>\n",
       "      <th>1983-01-01</th>\n",
       "      <td>-2.44</td>\n",
       "    </tr>\n",
       "    <tr>\n",
       "      <th>1983-02-01</th>\n",
       "      <td>0.89</td>\n",
       "    </tr>\n",
       "    <tr>\n",
       "      <th>1983-03-01</th>\n",
       "      <td>-0.71</td>\n",
       "    </tr>\n",
       "    <tr>\n",
       "      <th>1983-04-01</th>\n",
       "      <td>-0.60</td>\n",
       "    </tr>\n",
       "    <tr>\n",
       "      <th>1983-05-01</th>\n",
       "      <td>-0.68</td>\n",
       "    </tr>\n",
       "  </tbody>\n",
       "</table>\n",
       "</div>"
      ],
      "text/plain": [
       "            temp\n",
       "date            \n",
       "1983-01-01 -2.44\n",
       "1983-02-01  0.89\n",
       "1983-03-01 -0.71\n",
       "1983-04-01 -0.60\n",
       "1983-05-01 -0.68"
      ]
     },
     "execution_count": 76,
     "metadata": {},
     "output_type": "execute_result"
    }
   ],
   "source": [
    "sam.head()"
   ]
  },
  {
   "cell_type": "code",
   "execution_count": 77,
   "metadata": {},
   "outputs": [
    {
     "data": {
      "text/plain": [
       "DatetimeIndex(['1983-01-01', '1983-02-01', '1983-03-01', '1983-04-01',\n",
       "               '1983-05-01', '1983-06-01', '1983-07-01', '1983-08-01',\n",
       "               '1983-09-01', '1983-10-01',\n",
       "               ...\n",
       "               '2003-03-01', '2003-04-01', '2003-05-01', '2003-06-01',\n",
       "               '2003-07-01', '2003-08-01', '2003-09-01', '2003-10-01',\n",
       "               '2003-11-01', '2003-12-01'],\n",
       "              dtype='datetime64[ns]', name='date', length=252, freq=None)"
      ]
     },
     "execution_count": 77,
     "metadata": {},
     "output_type": "execute_result"
    }
   ],
   "source": [
    "sam.index"
   ]
  },
  {
   "cell_type": "code",
   "execution_count": 80,
   "metadata": {},
   "outputs": [],
   "source": [
    "sam_daily = sam.resample('D').ffill()"
   ]
  },
  {
   "cell_type": "code",
   "execution_count": 81,
   "metadata": {},
   "outputs": [],
   "source": [
    "result = pd.concat([prat_daily.reset_index(drop=True), sam_daily.reset_index(drop=True)], axis=1)"
   ]
  },
  {
   "cell_type": "code",
   "execution_count": 82,
   "metadata": {},
   "outputs": [
    {
     "data": {
      "text/html": [
       "<div>\n",
       "<style scoped>\n",
       "    .dataframe tbody tr th:only-of-type {\n",
       "        vertical-align: middle;\n",
       "    }\n",
       "\n",
       "    .dataframe tbody tr th {\n",
       "        vertical-align: top;\n",
       "    }\n",
       "\n",
       "    .dataframe thead th {\n",
       "        text-align: right;\n",
       "    }\n",
       "</style>\n",
       "<table border=\"1\" class=\"dataframe\">\n",
       "  <thead>\n",
       "    <tr style=\"text-align: right;\">\n",
       "      <th></th>\n",
       "      <th>air_temperature (degC)</th>\n",
       "      <th>wind_direction (deg)</th>\n",
       "      <th>wind_speed (m/s)</th>\n",
       "      <th>sea_level_pressure (hPa)</th>\n",
       "      <th>station_pressure (hPa)</th>\n",
       "      <th>temp</th>\n",
       "    </tr>\n",
       "  </thead>\n",
       "  <tbody>\n",
       "    <tr>\n",
       "      <th>0</th>\n",
       "      <td>1.1625</td>\n",
       "      <td>0.00</td>\n",
       "      <td>0.0000</td>\n",
       "      <td>620.8000</td>\n",
       "      <td>620.425</td>\n",
       "      <td>-2.44</td>\n",
       "    </tr>\n",
       "    <tr>\n",
       "      <th>1</th>\n",
       "      <td>1.9625</td>\n",
       "      <td>0.00</td>\n",
       "      <td>0.0000</td>\n",
       "      <td>998.1625</td>\n",
       "      <td>997.550</td>\n",
       "      <td>-2.44</td>\n",
       "    </tr>\n",
       "    <tr>\n",
       "      <th>2</th>\n",
       "      <td>2.3875</td>\n",
       "      <td>143.75</td>\n",
       "      <td>1.5125</td>\n",
       "      <td>1006.0500</td>\n",
       "      <td>1005.425</td>\n",
       "      <td>-2.44</td>\n",
       "    </tr>\n",
       "    <tr>\n",
       "      <th>3</th>\n",
       "      <td>2.4000</td>\n",
       "      <td>152.50</td>\n",
       "      <td>5.4125</td>\n",
       "      <td>996.7500</td>\n",
       "      <td>996.150</td>\n",
       "      <td>-2.44</td>\n",
       "    </tr>\n",
       "    <tr>\n",
       "      <th>4</th>\n",
       "      <td>1.7625</td>\n",
       "      <td>242.50</td>\n",
       "      <td>11.0625</td>\n",
       "      <td>986.3500</td>\n",
       "      <td>985.750</td>\n",
       "      <td>-2.44</td>\n",
       "    </tr>\n",
       "  </tbody>\n",
       "</table>\n",
       "</div>"
      ],
      "text/plain": [
       "   air_temperature (degC)  wind_direction (deg)  wind_speed (m/s)  \\\n",
       "0                  1.1625                  0.00            0.0000   \n",
       "1                  1.9625                  0.00            0.0000   \n",
       "2                  2.3875                143.75            1.5125   \n",
       "3                  2.4000                152.50            5.4125   \n",
       "4                  1.7625                242.50           11.0625   \n",
       "\n",
       "   sea_level_pressure (hPa)  station_pressure (hPa)  temp  \n",
       "0                  620.8000                 620.425 -2.44  \n",
       "1                  998.1625                 997.550 -2.44  \n",
       "2                 1006.0500                1005.425 -2.44  \n",
       "3                  996.7500                 996.150 -2.44  \n",
       "4                  986.3500                 985.750 -2.44  "
      ]
     },
     "execution_count": 82,
     "metadata": {},
     "output_type": "execute_result"
    }
   ],
   "source": [
    "result.head()"
   ]
  },
  {
   "cell_type": "code",
   "execution_count": 84,
   "metadata": {},
   "outputs": [],
   "source": [
    "result.drop(columns=['station_pressure (hPa)'], inplace=True)"
   ]
  },
  {
   "cell_type": "code",
   "execution_count": 85,
   "metadata": {},
   "outputs": [],
   "source": [
    "y = result['air_temperature (degC)']\n",
    "y = y.fillna(0)\n",
    "y= y.values\n"
   ]
  },
  {
   "cell_type": "code",
   "execution_count": 115,
   "metadata": {},
   "outputs": [
    {
     "data": {
      "text/plain": [
       "array([[-1.59185883, -1.2331203 , -0.66843163, -1.45353803],\n",
       "       [-1.59185883, -1.2331203 ,  0.43655475, -1.45353803],\n",
       "       [-0.00782716, -0.86975082,  0.45965079, -1.45353803],\n",
       "       ...,\n",
       "       [-0.10424648,  0.36450419,  0.45104926, -0.08320082],\n",
       "       [ 0.77730158, -0.48535996,  0.46675164, -0.08320082],\n",
       "       [ 1.31449493, -0.38325614,  0.44354579, -0.08320082]])"
      ]
     },
     "execution_count": 115,
     "metadata": {},
     "output_type": "execute_result"
    }
   ],
   "source": [
    "X = result.drop(columns=['air_temperature (degC)'], axis=1)\n",
    "X=X.fillna(0)\n",
    "from sklearn.pipeline import Pipeline\n",
    "from sklearn.preprocessing import StandardScaler, MinMaxScaler\n",
    "\n",
    "pipeline = Pipeline([\n",
    "    ('scaling', StandardScaler()),\n",
    "])\n",
    "\n",
    "X = pipeline.fit_transform(X)\n",
    "X"
   ]
  },
  {
   "cell_type": "code",
   "execution_count": 116,
   "metadata": {},
   "outputs": [],
   "source": [
    "from sklearn.model_selection import train_test_split  "
   ]
  },
  {
   "cell_type": "code",
   "execution_count": 117,
   "metadata": {},
   "outputs": [],
   "source": [
    "X_train, X_test, y_train, y_test = train_test_split(X, y, test_size=0.2)  "
   ]
  },
  {
   "cell_type": "code",
   "execution_count": 118,
   "metadata": {},
   "outputs": [],
   "source": [
    "from sklearn.linear_model import LinearRegression\n",
    "regressor = LinearRegression()\n",
    "regressor.fit(X_train, y_train)\n",
    "reg_prediction = regressor.predict(X_test)\n"
   ]
  },
  {
   "cell_type": "code",
   "execution_count": 119,
   "metadata": {},
   "outputs": [
    {
     "name": "stdout",
     "output_type": "stream",
     "text": [
      "The Explained Variance: 0.22\n",
      "The Mean Absolute Error: 2.43 degrees celsius\n",
      "The Median Absolute Error: 1.80 degrees celsius\n"
     ]
    },
    {
     "name": "stderr",
     "output_type": "stream",
     "text": [
      "C:\\Users\\abhik\\AppData\\Local\\Continuum\\anaconda3\\lib\\site-packages\\ipykernel_launcher.py:3: RuntimeWarning: invalid value encountered in sqrt\n",
      "  This is separate from the ipykernel package so we can avoid doing imports until\n"
     ]
    }
   ],
   "source": [
    "from sklearn.metrics import mean_squared_error\n",
    "reg_mse = (y_test, reg_prediction )\n",
    "reg_rmse = np.sqrt(reg_mse)\n",
    "#print(\"the rmse: %s\" % reg_rmse)\n",
    "# Evaluate the prediction accuracy of the model\n",
    "from sklearn.metrics import mean_absolute_error, median_absolute_error  \n",
    "print(\"The Explained Variance: %.2f\" % regressor.score(X_test, y_test))  \n",
    "print(\"The Mean Absolute Error: %.2f degrees celsius\" % mean_absolute_error(y_test, reg_prediction))  \n",
    "print(\"The Median Absolute Error: %.2f degrees celsius\" % median_absolute_error(y_test, reg_prediction)) "
   ]
  },
  {
   "cell_type": "code",
   "execution_count": 120,
   "metadata": {},
   "outputs": [
    {
     "data": {
      "image/png": "[encoded data removed]",
      "text/plain": [
       "<matplotlib.figure.Figure at 0x2228b990e10>"
      ]
     },
     "metadata": {},
     "output_type": "display_data"
    }
   ],
   "source": [
    "plt.plot(y_test, label='actual')\n",
    "plt.plot(prediction, label='forecast')\n",
    "plt.legend()\n",
    "plt.show()"
   ]
  },
  {
   "cell_type": "code",
   "execution_count": 121,
   "metadata": {},
   "outputs": [
    {
     "data": {
      "text/plain": [
       "DecisionTreeRegressor(criterion='mse', max_depth=None, max_features=None,\n",
       "           max_leaf_nodes=None, min_impurity_decrease=0.0,\n",
       "           min_impurity_split=None, min_samples_leaf=1,\n",
       "           min_samples_split=2, min_weight_fraction_leaf=0.0,\n",
       "           presort=False, random_state=10, splitter='best')"
      ]
     },
     "execution_count": 121,
     "metadata": {},
     "output_type": "execute_result"
    }
   ],
   "source": [
    "from sklearn.tree import DecisionTreeRegressor\n",
    "\n",
    "tree_reg = DecisionTreeRegressor(random_state=10)\n",
    "tree_reg.fit(X_train, y_train)"
   ]
  },
  {
   "cell_type": "code",
   "execution_count": 122,
   "metadata": {},
   "outputs": [
    {
     "name": "stdout",
     "output_type": "stream",
     "text": [
      "The Explained Variance: -0.19\n",
      "The Mean Absolute Error: 2.86 degrees celsius\n",
      "The Median Absolute Error: 1.73 degrees celsius\n"
     ]
    }
   ],
   "source": [
    "prediction_tree = tree_reg.predict(X_test)\n",
    "res = y_test - prediction\n",
    "# Evaluate the prediction accuracy of the model\n",
    "from sklearn.metrics import mean_absolute_error, median_absolute_error  \n",
    "print(\"The Explained Variance: %.2f\" % tree_reg.score(X_test, y_test))  \n",
    "print(\"The Mean Absolute Error: %.2f degrees celsius\" % mean_absolute_error(y_test, prediction_tree))  \n",
    "print(\"The Median Absolute Error: %.2f degrees celsius\" % median_absolute_error(y_test, prediction_tree))  "
   ]
  },
  {
   "cell_type": "code",
   "execution_count": 123,
   "metadata": {},
   "outputs": [
    {
     "data": {
      "image/png": "[encoded data removed]",
      "text/plain": [
       "<matplotlib.figure.Figure at 0x2228b990400>"
      ]
     },
     "metadata": {},
     "output_type": "display_data"
    }
   ],
   "source": [
    "plt.plot(y_test, label='actual')\n",
    "\n",
    "plt.plot(prediction_tree, label='forecast')\n",
    "plt.legend()\n",
    "plt.show()"
   ]
  },
  {
   "cell_type": "code",
   "execution_count": 124,
   "metadata": {},
   "outputs": [],
   "source": [
    "from sklearn.svm import SVR\n",
    "\n",
    "svm_reg = SVR(kernel=\"linear\")\n",
    "svm_reg.fit(X_train, y_train)\n",
    "svm_predictions = svm_reg.predict(X_test)"
   ]
  },
  {
   "cell_type": "code",
   "execution_count": 125,
   "metadata": {},
   "outputs": [
    {
     "name": "stdout",
     "output_type": "stream",
     "text": [
      "The Explained Variance: 0.15\n",
      "The Mean Absolute Error: 2.42 degrees celsius\n",
      "The Median Absolute Error: 1.64 degrees celsius\n"
     ]
    }
   ],
   "source": [
    "print(\"The Explained Variance: %.2f\" % svm_reg.score(X_test, y_test))  \n",
    "\n",
    "print(\"The Mean Absolute Error: %.2f degrees celsius\" % mean_absolute_error(y_test, svm_predictions))  \n",
    "print(\"The Median Absolute Error: %.2f degrees celsius\" % median_absolute_error(y_test, svm_predictions))"
   ]
  },
  {
   "cell_type": "code",
   "execution_count": 126,
   "metadata": {},
   "outputs": [
    {
     "data": {
      "image/png": "[encoded data removed]",
      "text/plain": [
       "<matplotlib.figure.Figure at 0x2228ba2d748>"
      ]
     },
     "metadata": {},
     "output_type": "display_data"
    }
   ],
   "source": [
    "plt.plot(y_test, label='actual')\n",
    "plt.plot(svm_predictions, label='forecast')\n",
    "plt.legend()\n",
    "plt.show()\n"
   ]
  },
  {
   "cell_type": "code",
   "execution_count": 127,
   "metadata": {},
   "outputs": [
    {
     "data": {
      "text/plain": [
       "RandomForestRegressor(bootstrap=True, criterion='mse', max_depth=None,\n",
       "           max_features='auto', max_leaf_nodes=None,\n",
       "           min_impurity_decrease=0.0, min_impurity_split=None,\n",
       "           min_samples_leaf=1, min_samples_split=2,\n",
       "           min_weight_fraction_leaf=0.0, n_estimators=10, n_jobs=1,\n",
       "           oob_score=False, random_state=42, verbose=0, warm_start=False)"
      ]
     },
     "execution_count": 127,
     "metadata": {},
     "output_type": "execute_result"
    }
   ],
   "source": [
    "from sklearn.ensemble import RandomForestRegressor\n",
    "\n",
    "forest_reg = RandomForestRegressor(n_estimators=10, random_state=42)\n",
    "forest_reg.fit(X_train, y_train)\n"
   ]
  },
  {
   "cell_type": "code",
   "execution_count": 128,
   "metadata": {},
   "outputs": [
    {
     "name": "stdout",
     "output_type": "stream",
     "text": [
      "The Explained Variance: 0.26\n",
      "The Mean Absolute Error: 2.32 degrees celsius\n",
      "The Median Absolute Error: 1.61 degrees celsius\n"
     ]
    }
   ],
   "source": [
    "rf_predictions = forest_reg.predict(X_test)\n",
    "print(\"The Explained Variance: %.2f\" % forest_reg.score(X_test, y_test))  \n",
    "\n",
    "print(\"The Mean Absolute Error: %.2f degrees celsius\" % mean_absolute_error(y_test, rf_predictions))  \n",
    "print(\"The Median Absolute Error: %.2f degrees celsius\" % median_absolute_error(y_test, rf_predictions))"
   ]
  },
  {
   "cell_type": "code",
   "execution_count": 129,
   "metadata": {},
   "outputs": [
    {
     "data": {
      "image/png": "[encoded data removed]",
      "text/plain": [
       "<matplotlib.figure.Figure at 0x2228ba3fd68>"
      ]
     },
     "metadata": {},
     "output_type": "display_data"
    }
   ],
   "source": [
    "plt.plot(y_test, label='actual')\n",
    "plt.plot(rf_predictions, label='forecast')\n",
    "plt.legend()\n",
    "plt.show()\n"
   ]
  },
  {
   "cell_type": "code",
   "execution_count": null,
   "metadata": {},
   "outputs": [],
   "source": []
  }
 ],
 "metadata": {
  "kernelspec": {
   "display_name": "Python 3",
   "language": "python",
   "name": "python3"
  },
  "language_info": {
   "codemirror_mode": {
    "name": "ipython",
    "version": 3
   },
   "file_extension": ".py",
   "mimetype": "text/x-python",
   "name": "python",
   "nbconvert_exporter": "python",
   "pygments_lexer": "ipython3",
   "version": "3.7.5"
  }
 },
 "nbformat": 4,
 "nbformat_minor": 2
}
